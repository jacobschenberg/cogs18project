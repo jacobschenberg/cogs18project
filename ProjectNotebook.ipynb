{
 "cells": [
  {
   "cell_type": "markdown",
   "metadata": {},
   "source": [
    "# Project Description:"
   ]
  },
  {
   "cell_type": "markdown",
   "metadata": {},
   "source": [
    "This project takes inspiration from the action/adventure game Star Wars Fallen Order in order to customize a character in the Star Wars universe. Along with a character customization, the user also gets to customize a lightsaber and a droid companion.\n",
    "\n",
    "This program displays multiple options for each selection, so if the user was prompted to choose a lightsaber color, they would be shown a menu of lightsaber colors to select from."
   ]
  },
  {
   "cell_type": "markdown",
   "metadata": {},
   "source": [
    "# Project Code:"
   ]
  },
  {
   "cell_type": "markdown",
   "metadata": {},
   "source": [
    "Each time the user is offerred a decision, they will be given a menu with options to choose from (i.e., a) red, b) blue, etc..). Whenever the user wants to leave the code, the command to leave the bot is 'Quit','quit', 'Q', or 'q'.\n",
    "\n",
    "When user does quit, all stored variables are no longer saved.\n",
    "\n",
    "Other than that, the code can be worked through successfully if the user just types in the command from the prompted menus."
   ]
  },
  {
   "cell_type": "code",
   "execution_count": 5,
   "metadata": {},
   "outputs": [],
   "source": [
    "from my_module.functions import *\n",
    "from my_module.test_functions import *"
   ]
  },
  {
   "cell_type": "code",
   "execution_count": 2,
   "metadata": {},
   "outputs": [
    {
     "name": "stdout",
     "output_type": "stream",
     "text": [
      "Welcome to the Star Wars character customization!\n",
      "By completing this task, you will successfully create your own Star Wars entity.\n",
      "To select an option from the menu, you will type in the letter option provided.\n",
      "If at any point you would like to leave, just type quit\n",
      "\n",
      "Do you want to create a Star Wars character?\n",
      "a) Yes\n",
      "b) No\n",
      "a\n",
      "Awesome! Lets start...\n",
      "\n",
      "Do you want to be on the light side or the dark side?\n",
      "a) Light Side\n",
      "b) Dark Side\n",
      "a\n",
      "Welcome to the light side.\n",
      "Now it's time to make your jedi name.\n",
      "\n",
      "As a member of the light side, you need a name heard throughout the galaxy.\n",
      "Please enter your name: \n",
      "Jacob\n",
      "Welcome, Jedi Master Jacob.\n",
      "Now you need to craft a weapon.\n",
      "\n",
      "A lightsaber is a powerful and elegant weapon from a more civilized age.\n",
      "This weapon will be your life, so choose wisely.\n",
      "Please select a color for your lightsaber: \n",
      "a) Red\n",
      "b) Blue\n",
      "c) Green\n",
      "d) Purple\n",
      "e) Yellow\n",
      "f) Orange\n",
      "g) Cyan\n",
      "h) Magenta\n",
      "g\n",
      "Are you sure you want a cyan lightsaber? \n",
      "a) Yes\n",
      "b) No\n",
      "a\n",
      "cyan's a good choice!\n",
      "\n",
      "Let's move into customizing your blade.\n",
      "An emitter converts a lightsaber's beam energy into a blade of plasma.\n",
      "It's integral for your saber.\n",
      "Please select the emitter for you saber: \n",
      "a) Duty and Resolve\n",
      "b) Magus\n",
      "c) Peace and Justice\n",
      "d) Valor and Wisdom\n",
      "e) Power and Control\n",
      "f) Elemental Nature\n",
      "b\n",
      "Equiped the magus emitter!\n",
      "\n",
      "What lightsaber option would you like to weild?\n",
      "a) Single blade saber\n",
      "b) Double-bladed saber\n",
      "c) Two blades saber\n",
      "d) Curved-handle saber\n",
      "b\n",
      "Do you want to weild a double-bladed lightsaber? \n",
      "a) Yes\n",
      "b) No\n",
      "a\n",
      "Modeling your blade after Darth Maul, I see.\n",
      "It's time to pick your droid companion.\n",
      "\n",
      "Please select your droid: \n",
      "a) R2 Unit\n",
      "b) R4 Unit\n",
      "c) BB Unit\n",
      "d) Probe Droid\n",
      "e) Human Protocol Droid\n",
      "a\n",
      "You've added an R2 unit to the family!\n",
      "\n",
      "\n",
      "You have successfully customized a Star Wars character!\n",
      "Generated character: Jedi Master Jacob who weilds a double-bladed cyan lightsaber with a magus emitter, and a R2 unit companion.\n"
     ]
    }
   ],
   "source": [
    "# Activates initial function to start the code\n",
    "star_wars()"
   ]
  }
 ],
 "metadata": {
  "kernelspec": {
   "display_name": "Python 3",
   "language": "python",
   "name": "python3"
  },
  "language_info": {
   "codemirror_mode": {
    "name": "ipython",
    "version": 3
   },
   "file_extension": ".py",
   "mimetype": "text/x-python",
   "name": "python",
   "nbconvert_exporter": "python",
   "pygments_lexer": "ipython3",
   "version": "3.6.7"
  }
 },
 "nbformat": 4,
 "nbformat_minor": 2
}
